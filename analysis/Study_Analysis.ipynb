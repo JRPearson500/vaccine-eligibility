{
 "cells": [
  {
   "cell_type": "markdown",
   "metadata": {},
   "source": [
    "### Input.csv contains \n",
    "\n",
    "- Age \n",
    "- Sex \n",
    "- bmi value \n",
    "- salbutamol count\n",
    "- Care Home type (PN, PC, PS, U) \n",
    "- Ethnicity (6 categories) \n",
    "- MSOA \n",
    "- STP \n",
    "- IMD (rounded to nearest 100) \n",
    "- rural/urban \n",
    "- Condition Flags:\n",
    "    - bone_marrow_transplant\n",
    "    - cancer_excl_lung_and_haem\n",
    "    - chemo_or_radio\n",
    "    - chronic_kidney_disease\n",
    "    - chronic_liver_disease\n",
    "    - chronic_cardiac_disease\n",
    "    - current_copd\n",
    "    - cystic_fibrosis\n",
    "    - dementia (excluded)\n",
    "    - diabetes\n",
    "    - dialysis\n",
    "    - haematological_cancer\n",
    "    - heart_failure\n",
    "    - intel_dis_incl_downs_syndrome\n",
    "    - lung_cancer\n",
    "    - non_severe_asthma\n",
    "    - other_heart_disease\n",
    "    - other_neuro\n",
    "    - other_respiratory_conditions\n",
    "    - permanant_immunosuppression\n",
    "    - temporary_immunosuppression\n",
    "    - severe_asthma\n",
    "    - sickle_cell_disease\n",
    "    - solid_organ_transplantation\n",
    "    - stroke (excluded)\n",
    "    - psychosis_schiz_bipolar\n",
    "    - asplenia\n",
    "    - dmards"
   ]
  },
  {
   "cell_type": "markdown",
   "metadata": {},
   "source": [
    "## Packages"
   ]
  },
  {
   "cell_type": "code",
   "execution_count": null,
   "metadata": {},
   "outputs": [],
   "source": [
    "from random import randint\n",
    "from copy import copy\n",
    "\n",
    "import numpy as np\n",
    "import pandas as pd\n",
    "\n",
    "import matplotlib.pyplot as plt\n",
    "import seaborn as sns\n",
    "\n",
    "import folium\n",
    "import geopandas as gpd\n",
    "\n",
    "from prettytable import PrettyTable"
   ]
  },
  {
   "cell_type": "markdown",
   "metadata": {},
   "source": [
    "## Data\n",
    "\n",
    "individual data from input.csv.  Workforce proprotions from demographics.csv"
   ]
  },
  {
   "cell_type": "code",
   "execution_count": null,
   "metadata": {},
   "outputs": [],
   "source": [
    "df = pd.read_csv(\"../output/input.csv\")\n",
    "df_workforce = pd.read_csv(\"./data/demographics.csv\")"
   ]
  },
  {
   "cell_type": "code",
   "execution_count": null,
   "metadata": {},
   "outputs": [],
   "source": [
    "# order matches codelist.py\n",
    "condition_cols = [\n",
    "    \"solid_organ_transplantation\",\n",
    "    \"chemo_or_radio\",\n",
    "    \"lung_cancer\",\n",
    "    \"cancer_excl_lung_and_haem\",\n",
    "    \"haematological_cancer\",\n",
    "    \"bone_marrow_transplant\",\n",
    "    \"cystic_fibrosis\",\n",
    "    \"severe_asthma\",\n",
    "    \"current_copd\",\n",
    "    \"sickle_cell_disease\",\n",
    "    \"permanant_immunosuppression\",\n",
    "    \"temporary_immunosuppression\",\n",
    "    \"dmards\",\n",
    "    \"chronic_cardiac_disease\",\n",
    "    \"intel_dis_incl_downs_syndrome\",\n",
    "    \"dialysis\",\n",
    "    \"non_severe_asthma\",\n",
    "    \"other_respiratory_conditions\",\n",
    "    \"heart_failure\",\n",
    "    \"other_heart_disease\",\n",
    "    \"diabetes\",\n",
    "    \"chronic_kidney_disease\",\n",
    "    \"chronic_liver_disease\",\n",
    "    \"other_neuro\",\n",
    "    #    \"dementia\",\n",
    "    #    \"stroke\",\n",
    "    \"psychosis_schiz_bipolar\",\n",
    "    \"asplenia\",\n",
    "]"
   ]
  },
  {
   "cell_type": "code",
   "execution_count": null,
   "metadata": {},
   "outputs": [],
   "source": [
    "# Clean - replace NaNs\n",
    "df.loc[:, condition_cols] = (\n",
    "    df.loc[:, condition_cols]\n",
    "    .where(df.loc[:, condition_cols].isnull(), 1)\n",
    "    .fillna(value=0)\n",
    "    .astype(int)\n",
    ")\n",
    "\n",
    "senti_val = -99\n",
    "\n",
    "df.loc[:, \"ethnicity\"].fillna(value=senti_val, inplace=True)\n",
    "df.loc[:, \"bmi\"].fillna(value=senti_val, inplace=True)\n",
    "df.loc[:, \"recent_salbutamol_count\"].fillna(value=0, inplace=True)"
   ]
  },
  {
   "cell_type": "markdown",
   "metadata": {},
   "source": [
    "## Feature Generation\n",
    "\n",
    "Set High and Medium Risk Flags based on conditions.  "
   ]
  },
  {
   "cell_type": "code",
   "execution_count": null,
   "metadata": {},
   "outputs": [],
   "source": [
    "# Create new features for \"with definitions\"\n",
    "df[\"cancer_excl_lung_and_haem_with_chemo_or_radio\"] = (\n",
    "    df[\"cancer_excl_lung_and_haem\"] * df[\"chemo_or_radio\"]\n",
    ")\n",
    "df[\"lung_cancer_with_chemo_or_radio\"] = (\n",
    "    df[\"lung_cancer\"] * df[\"chemo_or_radio\"]\n",
    ")\n",
    "df[\"non_severe_asthma_with_recent_salbutamol_count\"] = (\n",
    "    df[\"non_severe_asthma\"] * df[\"recent_salbutamol_count\"]\n",
    ")"
   ]
  },
  {
   "cell_type": "code",
   "execution_count": null,
   "metadata": {},
   "outputs": [],
   "source": [
    "clinExtrVuln_condition_cols = [\n",
    "    \"solid_organ_transplantation\",\n",
    "    \"cancer_excl_lung_and_haem_with_chemo_or_radio\",\n",
    "    \"lung_cancer_with_chemo_or_radio\",\n",
    "    \"haematological_cancer\",\n",
    "    \"bone_marrow_transplant\",\n",
    "    \"cystic_fibrosis\",\n",
    "    # \"severe_asthma\", (awaiting definition)\n",
    "    \"current_copd\",\n",
    "    \"sickle_cell_disease\",\n",
    "    \"permanant_immunosuppression\",\n",
    "    \"temporary_immunosuppression\",\n",
    "    \"dmards\",\n",
    "    \"chronic_cardiac_disease\",\n",
    "    \"intel_dis_incl_downs_syndrome\",\n",
    "    \"dialysis\",\n",
    "]\n",
    "\n",
    "atRisk_condition_cols = [\n",
    "    \"non_severe_asthma_with_recent_salbutamol_count\",\n",
    "    \"other_respiratory_conditions\",\n",
    "    \"heart_failure\",\n",
    "    \"other_heart_disease\",\n",
    "    \"diabetes\",\n",
    "    \"chronic_kidney_disease\",\n",
    "    \"chronic_liver_disease\",\n",
    "    \"other_neuro\",\n",
    "    \"psychosis_schiz_bipolar\",\n",
    "    \"asplenia\",\n",
    "]"
   ]
  },
  {
   "cell_type": "code",
   "execution_count": null,
   "metadata": {},
   "outputs": [],
   "source": [
    "df[\"num_clinExtrVuln_conditions\"] = df.loc[:, clinExtrVuln_condition_cols].sum(\n",
    "    axis=1\n",
    ")\n",
    "df[\"num_atRisk_conditions\"] = df.loc[:, atRisk_condition_cols].sum(axis=1)\n",
    "df[\"risk\"] = 0\n",
    "\n",
    "conditionals = [\n",
    "    (df[\"num_clinExtrVuln_conditions\"] > 0),\n",
    "    (df[\"num_atRisk_conditions\"] > 0) | (df[\"bmi\"] >= 40),\n",
    "    (df[\"num_atRisk_conditions\"] == 0)\n",
    "    & (df[\"num_clinExtrVuln_conditions\"] == 0)\n",
    "    & (df[\"bmi\"] < 40),\n",
    "]\n",
    "risk_values = [\"high\", \"medium\", \"low\"]\n",
    "\n",
    "df[\"risk\"] = np.select(conditionals, risk_values)"
   ]
  },
  {
   "cell_type": "markdown",
   "metadata": {},
   "source": [
    "Set Priority Flag based on November Green Book (exluding workforce considerations)"
   ]
  },
  {
   "cell_type": "code",
   "execution_count": null,
   "metadata": {},
   "outputs": [],
   "source": [
    "priority_labels = [\n",
    "    \"Older Residents & care workers in Care Homes\",\n",
    "    \"80+ & Health and care Workers\",\n",
    "    \"75+\",\n",
    "    \"70+ & Clinically Extremely Vulnerable Adults\",\n",
    "    \"65+\",\n",
    "    \"Adults who are at Risk\",\n",
    "    \"60+\",\n",
    "    \"55+\",\n",
    "    \"50+\",\n",
    "    \"Rest\",\n",
    "]"
   ]
  },
  {
   "cell_type": "code",
   "execution_count": null,
   "metadata": {},
   "outputs": [],
   "source": [
    "df[\"priority\"] = 0\n",
    "\n",
    "conditionals = [\n",
    "    (df[\"age\"] >= 65) & (df[\"care_home_type\"] != \"U\"),\n",
    "    (df[\"age\"] >= 80) & (df[\"care_home_type\"] == \"U\"),\n",
    "    (df[\"age\"] >= 75) & (df[\"care_home_type\"] == \"U\"),\n",
    "    ((df[\"age\"] >= 70) & (df[\"care_home_type\"] == \"U\"))\n",
    "    | ((df[\"risk\"] == \"high\") & (df[\"age\"] >= 18)),\n",
    "    (df[\"age\"] >= 65) & (df[\"care_home_type\"] == \"U\"),\n",
    "    ((df[\"age\"] < 65) & (df[\"risk\"] == \"medium\") & (df[\"age\"] >= 18))\n",
    "    | ((df[\"age\"] < 65) & (df[\"care_home_type\"] != \"U\")),\n",
    "    (df[\"age\"] >= 60) & (df[\"risk\"] == \"low\"),\n",
    "    (df[\"age\"] >= 55) & (df[\"risk\"] == \"low\"),\n",
    "    (df[\"age\"] >= 50) & (df[\"risk\"] == \"low\"),\n",
    "    (df[\"age\"] < 50),\n",
    "]\n",
    "priority_values = list(range(1, len(priority_labels) + 1))\n",
    "\n",
    "df[\"priority\"] = np.select(conditionals, priority_values)"
   ]
  },
  {
   "cell_type": "code",
   "execution_count": null,
   "metadata": {},
   "outputs": [],
   "source": [
    "freq = df[\"priority\"].value_counts().sort_index()\n",
    "\n",
    "freq_output = freq.copy(deep=True)\n",
    "\n",
    "freq_output = freq_output.reset_index().rename({\"index\": \"order\"}, axis=1)\n",
    "freq_output.index = priority_labels\n",
    "\n",
    "freq_output.to_csv(\"../output/PriorityCounts_NoWorkforce.csv\")"
   ]
  },
  {
   "cell_type": "markdown",
   "metadata": {},
   "source": [
    "Output disease propensities for clinical extremely vulnerable and at risk as a sense check. Ensure these outputs will never give less than 7 for any combination.  "
   ]
  },
  {
   "cell_type": "code",
   "execution_count": null,
   "metadata": {},
   "outputs": [],
   "source": [
    "clinExtrVuln_propensity = (\n",
    "    df[(df[\"risk\"] == \"high\")]\n",
    "    .groupby(clinExtrVuln_condition_cols)\n",
    "    .size()\n",
    "    .reset_index(name=\"Count\")\n",
    "    .sort_values(by=\"Count\", ascending=False)\n",
    ")\n",
    "clinExtrVuln_propensity.loc[\n",
    "    (clinExtrVuln_propensity[\"Count\"] < 7), \"Count\"\n",
    "] = 7\n",
    "clinExtrVuln_propensity.to_csv(\n",
    "    \"../output/clinExtrVuln_propensity.csv\", index=False\n",
    ")\n",
    "\n",
    "atRisk_propensity = (\n",
    "    df[(df[\"risk\"] == \"high\")]\n",
    "    .groupby(atRisk_condition_cols)\n",
    "    .size()\n",
    "    .reset_index(name=\"Count\")\n",
    "    .sort_values(by=\"Count\", ascending=False)\n",
    ")\n",
    "atRisk_propensity.loc[(atRisk_propensity[\"Count\"] < 7), \"Count\"] = 7\n",
    "atRisk_propensity.to_csv(\"../output/atRisk_propensity.csv\", index=False)"
   ]
  },
  {
   "cell_type": "markdown",
   "metadata": {},
   "source": [
    "Mapping to be added for Priority counts per STP or MSOA."
   ]
  },
  {
   "cell_type": "markdown",
   "metadata": {},
   "source": [
    "dfmap = gpd.read_file(\"./data/STP.geojson\")\n",
    "rand = [randint(0, 9) for p in range(0, len(dfmap.index))]\n",
    "dfmap[\"Value\"] = rand"
   ]
  },
  {
   "cell_type": "markdown",
   "metadata": {},
   "source": [
    "min_lat, max_lat = 48.77, 60\n",
    "min_lon, max_lon = -9.05, 5\n",
    "\n",
    "kanton_map = folium.Map(\n",
    "    location=[54.6, -3.4],\n",
    "    tiles=\"Mapbox Bright\",\n",
    "    zoom_start=7,\n",
    "    min_lat=min_lat,\n",
    "    max_lat=max_lat,\n",
    "    min_lon=min_lon,\n",
    "    max_lon=max_lon,\n",
    "    max_zoom=18,\n",
    "    min_zoom=5,\n",
    ")\n",
    "\n",
    "kanton_map.choropleth(\n",
    "    geo_data=\"./data/STP.geojson\",\n",
    "    data=dfmap,\n",
    "    columns=[\"stp20cd\", \"Value\"],\n",
    "    key_on=\"feature.properties.stp20cd\",\n",
    "    # threshold_scale=[0,1,3,5,9],\n",
    "    fill_color=\"BuPu\",\n",
    ")\n",
    "\n",
    "kanton_map"
   ]
  },
  {
   "cell_type": "markdown",
   "metadata": {},
   "source": [
    "Create workforce calculations for age bands (including risk exclusions)"
   ]
  },
  {
   "cell_type": "code",
   "execution_count": null,
   "metadata": {},
   "outputs": [],
   "source": [
    "# As we need to adapt profiles, we need to first have a factor to use for the dummy data\n",
    "factor = len(df.index) / int(\n",
    "    df_workforce.loc[\n",
    "        (df_workforce[\"workforce\"] == \"England\")\n",
    "        & (df_workforce[\"metric\"] == \"all\")\n",
    "    ].value\n",
    ")\n",
    "\n",
    "# From the calculation above, we also need a factor for the number of higher risk people\n",
    "high_risk_prop = len(df[(df[\"risk\"] == \"high\") & (df[\"age\"] >= 18)]) / len(\n",
    "    df.index\n",
    ")\n",
    "medium_risk_prop = len(df[(df[\"risk\"] == \"medium\") & (df[\"age\"] >= 18)]) / len(\n",
    "    df.index\n",
    ")\n",
    "risk_prop = high_risk_prop + medium_risk_prop"
   ]
  },
  {
   "cell_type": "code",
   "execution_count": null,
   "metadata": {},
   "outputs": [],
   "source": [
    "# Calculate total for each group\n",
    "df_wf_tot = (\n",
    "    df_workforce.loc[df_workforce[\"metric\"] == \"all\", [\"workforce\", \"value\"]]\n",
    "    .copy(deep=True)\n",
    "    .reset_index(drop=True)\n",
    ")\n",
    "\n",
    "df_wf_tot[\"factor_total\"] = df_wf_tot[\"value\"].astype(int) * factor\n",
    "\n",
    "df_wf_tot = df_wf_tot.set_index(\"workforce\")\n",
    "df_wf_tot = df_wf_tot.drop(\"value\", axis=1)\n",
    "df_wf_tot = df_wf_tot.drop(\"England\", axis=0)\n",
    "\n",
    "wf_tot = df_wf_tot[\"factor_total\"]"
   ]
  },
  {
   "cell_type": "code",
   "execution_count": null,
   "metadata": {},
   "outputs": [],
   "source": [
    "# 5-year age-bands for workforce (assume no workforce above 70)\n",
    "sc_list = [\"SocialCare_Residential\", \"SocialCare_NonResidential\"]\n",
    "\n",
    "lower_ab_sc = 32 / 37\n",
    "lower_ab_not_sc = 32 / 36\n",
    "\n",
    "age_bands = [\"under_55\", \"55_59\", \"60_64\", \"65+\"]\n",
    "\n",
    "df_wf_ab = (\n",
    "    df_workforce.loc[\n",
    "        df_workforce[\"metric\"].isin(age_bands),\n",
    "        [\"workforce\", \"metric\", \"value\"],\n",
    "    ]\n",
    "    .copy(deep=True)\n",
    "    .reset_index(drop=True)\n",
    ")\n",
    "\n",
    "df_wf_ab.loc[df_wf_ab[\"metric\"] == \"65+\", \"metric\"] = \"65_70\"\n",
    "\n",
    "for wfg in df_wf_ab[\"workforce\"].unique():\n",
    "    wfg_lower = df_wf_ab[\n",
    "        (df_wf_ab[\"workforce\"] == wfg) & (df_wf_ab[\"metric\"] == \"under_55\")\n",
    "    ][\"value\"].values[0]\n",
    "\n",
    "    multiplier = lower_ab_sc if wfg in (sc_list) else lower_ab_not_sc\n",
    "\n",
    "    new_ab_series = [\n",
    "        pd.Series(\n",
    "            [wfg, \"18_49\", wfg_lower * multiplier], index=df_wf_ab.columns\n",
    "        ),\n",
    "        pd.Series(\n",
    "            [wfg, \"50_54\", wfg_lower * (1 - multiplier)],\n",
    "            index=df_wf_ab.columns,\n",
    "        ),\n",
    "    ]\n",
    "\n",
    "    df_wf_ab = df_wf_ab.append(new_ab_series, ignore_index=True)\n",
    "\n",
    "age_bands_updated = [\"18_49\", \"50_54\", \"55_59\", \"60_64\", \"65_70\"]\n",
    "\n",
    "df_wf_ab = df_wf_ab[df_wf_ab[\"metric\"] != \"under_55\"]\n",
    "df_wf_ab = df_wf_ab[df_wf_ab[\"workforce\"] != \"England\"]\n",
    "df_wf_ab = df_wf_ab.sort_values([\"workforce\", \"metric\"]).reset_index(drop=True)"
   ]
  },
  {
   "cell_type": "code",
   "execution_count": null,
   "metadata": {},
   "outputs": [],
   "source": [
    "wf_not_65_70 = (\n",
    "    df_wf_ab[~(df_wf_ab[\"metric\"] == \"65_70\")]\n",
    "    .groupby(\"workforce\")\n",
    "    .sum()[\"value\"]\n",
    ")\n",
    "\n",
    "wf_ab = dict()\n",
    "\n",
    "for ab in age_bands_updated:\n",
    "    _wf = df_wf_ab[df_wf_ab[\"metric\"] == ab].set_index(\"workforce\")[\"value\"]\n",
    "\n",
    "    wf_ab.update({ab: _wf})"
   ]
  },
  {
   "cell_type": "code",
   "execution_count": null,
   "metadata": {},
   "outputs": [],
   "source": [
    "freq_wf = copy(freq)\n",
    "freq_wf = freq_wf.astype(\"float\")\n",
    "\n",
    "freq_wf[1] = freq[1] + wf_tot[\"SocialCare_Residential\"]\n",
    "freq_wf[2] = freq[2] + (wf_tot.sum() - wf_tot[\"SocialCare_Residential\"])\n",
    "freq_wf[3] = freq[3]\n",
    "freq_wf[4] = freq[4] - high_risk_prop * wf_tot.sum()\n",
    "freq_wf[5] = freq[5] - (1 - risk_prop) * (wf_ab[\"65_70\"] @ wf_tot)\n",
    "freq_wf[6] = freq[6] - medium_risk_prop * wf_tot.sum()\n",
    "freq_wf[7] = freq[7] - (1 - risk_prop) * (wf_ab[\"60_64\"] @ wf_tot)\n",
    "freq_wf[8] = freq[8] - (1 - risk_prop) * (wf_ab[\"55_59\"] @ wf_tot)\n",
    "freq_wf[9] = freq[9] - (1 - risk_prop) * (wf_ab[\"50_54\"] @ wf_tot)\n",
    "freq_wf[10] = freq[10] - (1 - risk_prop) * (wf_ab[\"18_49\"] @ wf_tot)"
   ]
  },
  {
   "cell_type": "code",
   "execution_count": null,
   "metadata": {},
   "outputs": [],
   "source": [
    "freq_wf_output = freq_wf.copy(deep=True)\n",
    "\n",
    "freq_wf_output = freq_wf_output.reset_index().rename(\n",
    "    {\"index\": \"order\"}, axis=1\n",
    ")\n",
    "freq_wf_output.index = priority_labels\n",
    "\n",
    "freq_wf_output.to_csv(\"../output/PriorityCounts_WithWorkforce.csv\")"
   ]
  },
  {
   "cell_type": "code",
   "execution_count": null,
   "metadata": {},
   "outputs": [],
   "source": [
    "wf_table = PrettyTable()\n",
    "column_names = [\n",
    "    \"C-19 Vaccine Priority Categories\",\n",
    "    \"Count with no workforce considered\",\n",
    "    \"Count with workforce considered\",\n",
    "    \"Difference\",\n",
    "]\n",
    "\n",
    "wf_table.add_column(column_names[0], priority_labels)\n",
    "wf_table.add_column(column_names[1], freq.values)\n",
    "wf_table.add_column(column_names[2], freq_wf.values.round(2))\n",
    "wf_table.add_column(column_names[3], (freq.values - freq_wf.values).round(2))\n",
    "wf_table.add_row([\"\", \"\", \"\", \"\"])\n",
    "wf_table.add_row(\n",
    "    [\n",
    "        \"Total\",\n",
    "        freq.values.sum(),\n",
    "        freq_wf.values.sum(),\n",
    "        (freq.values - freq_wf.values).sum().round(2),\n",
    "    ]\n",
    ")\n",
    "\n",
    "print(wf_table)"
   ]
  },
  {
   "cell_type": "markdown",
   "metadata": {},
   "source": [
    "## Waterfall chart"
   ]
  },
  {
   "cell_type": "code",
   "execution_count": null,
   "metadata": {},
   "outputs": [],
   "source": [
    "csum_wf = freq_wf.cumsum().shift(1).fillna(value=0)\n",
    "csum = freq.cumsum().shift(1).fillna(value=0)"
   ]
  },
  {
   "cell_type": "code",
   "execution_count": null,
   "metadata": {},
   "outputs": [],
   "source": [
    "age_plot = freq.plot(\n",
    "    kind=\"bar\",\n",
    "    stacked=True,\n",
    "    bottom=csum,\n",
    "    legend=None,\n",
    "    title=\"Eligibility by Priority Waterfall (No Workforce considerations)\",\n",
    "    figsize=(16, 6),\n",
    ")\n",
    "\n",
    "age_plot.set_xticklabels(priority_labels)\n",
    "age_plot.grid()\n",
    "\n",
    "plt.savefig(\"../output/waterfall_age.png\")\n",
    "plt.show()"
   ]
  },
  {
   "cell_type": "code",
   "execution_count": null,
   "metadata": {},
   "outputs": [],
   "source": [
    "wf_plot = freq_wf.plot(\n",
    "    kind=\"bar\",\n",
    "    stacked=True,\n",
    "    bottom=csum_wf,\n",
    "    legend=None,\n",
    "    title=\"Eligibility by Priority Waterfall\",\n",
    "    figsize=(16, 6),\n",
    ")\n",
    "\n",
    "wf_plot.set_xticklabels(priority_labels)\n",
    "wf_plot.grid()\n",
    "\n",
    "plt.savefig(\"../output/waterfall_wf.png\")\n",
    "plt.show()"
   ]
  }
 ],
 "metadata": {
  "kernelspec": {
   "display_name": "Python 3",
   "language": "python",
   "name": "python3"
  },
  "language_info": {
   "codemirror_mode": {
    "name": "ipython",
    "version": 3
   },
   "file_extension": ".py",
   "mimetype": "text/x-python",
   "name": "python",
   "nbconvert_exporter": "python",
   "pygments_lexer": "ipython3",
   "version": "3.8.5-final"
  }
 },
 "nbformat": 4,
 "nbformat_minor": 2
}