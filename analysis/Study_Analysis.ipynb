{
 "cells": [
  {
   "cell_type": "markdown",
   "metadata": {},
   "source": [
    "### Input.csv contains \n",
    "\n",
    "- Age \n",
    "- Sex \n",
    "- bmi value \n",
    "- Care Home type (PN, PC, PS, U) \n",
    "- Ethnicity (6 categories) \n",
    "- MSOA \n",
    "- STP \n",
    "- IMD (rounded to nearest 100) \n",
    "- rural/urban \n",
    "- Condition Flags:\n",
    "    - bone_marrow_transplant\n",
    "    - cancer_excl_lung_and_haem\n",
    "    - chemo_or_radio\n",
    "    - chronic_kidney_disease\n",
    "    - chronic_liver_disease\n",
    "    - chronic_cardiac_disease\n",
    "    - current_copd\n",
    "    - cystic_fibrosis\n",
    "    - dementia\n",
    "    - diabetes\n",
    "    - dialysis\n",
    "    - haematological_cancer\n",
    "    - heart_failure\n",
    "    - intel_dis_incl_downs_syndrome\n",
    "    - lung_cancer\n",
    "    - non_severe_asthma\n",
    "    - other_heart_disease\n",
    "    - other_neuro\n",
    "    - other_respiratory_conditions\n",
    "    - permanant_immunosuppression\n",
    "    - temporary_immunosuppression\n",
    "    - severe_asthma\n",
    "    - sickle_cell_disease\n",
    "    - solid_organ_transplantation\n",
    "    - stroke"
   ]
  },
  {
   "cell_type": "markdown",
   "metadata": {},
   "source": [
    "## Packages"
   ]
  },
  {
   "cell_type": "code",
   "execution_count": null,
   "metadata": {},
   "outputs": [],
   "source": [
    "from random import randint\n",
    "from copy import copy\n",
    "\n",
    "import numpy as np\n",
    "import pandas as pd\n",
    "\n",
    "import matplotlib.pyplot as plt\n",
    "import seaborn as sns\n",
    "\n",
    "import folium\n",
    "import geopandas as gpd"
   ]
  },
  {
   "cell_type": "markdown",
   "metadata": {},
   "source": [
    "## Data"
   ]
  },
  {
   "cell_type": "code",
   "execution_count": null,
   "metadata": {},
   "outputs": [],
   "source": [
    "df = pd.read_csv(\"../output/input.csv\")\n",
    "df_workforce = pd.read_csv(\"./data/demographics.csv\")"
   ]
  },
  {
   "cell_type": "code",
   "execution_count": null,
   "metadata": {},
   "outputs": [],
   "source": [
    "# order matches codelist.py\n",
    "condition_cols = [\n",
    "    \"solid_organ_transplantation\",\n",
    "    \"chemo_or_radio\",\n",
    "    \"lung_cancer\",\n",
    "    \"cancer_excl_lung_and_haem\",\n",
    "    \"haematological_cancer\",\n",
    "    \"bone_marrow_transplant\",\n",
    "    \"cystic_fibrosis\",\n",
    "    \"severe_asthma\",\n",
    "    \"current_copd\",\n",
    "    \"sickle_cell_disease\",\n",
    "    \"permanant_immunosuppression\",\n",
    "    \"temporary_immunosuppression\",\n",
    "    \"chronic_cardiac_disease\",\n",
    "    \"intel_dis_incl_downs_syndrome\",\n",
    "    \"dialysis\",\n",
    "    \"non_severe_asthma\",\n",
    "    \"other_respiratory_conditions\",\n",
    "    \"heart_failure\",\n",
    "    \"other_heart_disease\",\n",
    "    \"diabetes\",\n",
    "    \"chronic_kidney_disease\",\n",
    "    \"chronic_liver_disease\",\n",
    "    \"other_neuro\",\n",
    "    \"dementia\",\n",
    "    \"stroke\",\n",
    "]"
   ]
  },
  {
   "cell_type": "code",
   "execution_count": null,
   "metadata": {},
   "outputs": [],
   "source": [
    "# Clean - replace NaNs\n",
    "df.loc[:, condition_cols] = (\n",
    "    df.loc[:, condition_cols]\n",
    "    .where(df.loc[:, condition_cols].isnull(), 1)\n",
    "    .fillna(value=0)\n",
    "    .astype(int)\n",
    ")\n",
    "\n",
    "senti_val = -99\n",
    "\n",
    "df.loc[:, \"ethnicity\"].fillna(value=senti_val, inplace=True)\n",
    "df.loc[:, \"bmi\"].fillna(value=senti_val, inplace=True)"
   ]
  },
  {
   "cell_type": "markdown",
   "metadata": {},
   "source": [
    "## Feature Generation\n",
    "\n",
    "Set High and Medium Risk Flags based on conditions.  "
   ]
  },
  {
   "cell_type": "code",
   "execution_count": null,
   "metadata": {},
   "outputs": [],
   "source": [
    "df[\"num_conditions\"] = df.loc[:, condition_cols].sum(axis=1)\n",
    "df[\"risk\"] = 0\n",
    "\n",
    "conditionals = [\n",
    "    (df[\"num_conditions\"] == 0),\n",
    "    (df[\"num_conditions\"] > 0) & (df[\"num_conditions\"] < 3),\n",
    "    (df[\"num_conditions\"] >= 3),\n",
    "]\n",
    "risk_values = [\"low\", \"medium\", \"high\"]\n",
    "\n",
    "df[\"risk\"] = np.select(conditionals, risk_values)"
   ]
  },
  {
   "cell_type": "markdown",
   "metadata": {},
   "source": [
    "Set Priority Flag based on September JCVI advice (exluding workforce considerations)"
   ]
  },
  {
   "cell_type": "code",
   "execution_count": null,
   "metadata": {},
   "outputs": [],
   "source": [
    "priority_labels = [\n",
    "    \"Older Residents & care workers in Care Homes\",\n",
    "    \"80+ & Health and care Workers\",\n",
    "    \"75+\",\n",
    "    \"70+\",\n",
    "    \"65+\",\n",
    "    \"High Risk under 65\",\n",
    "    \"Medium Risk under 65\",\n",
    "    \"60+\",\n",
    "    \"55+\",\n",
    "    \"50+\",\n",
    "    \"Rest\",\n",
    "]"
   ]
  },
  {
   "cell_type": "code",
   "execution_count": null,
   "metadata": {},
   "outputs": [],
   "source": [
    "df[\"priority\"] = 0\n",
    "\n",
    "conditionals = [\n",
    "    (df[\"age\"] >= 65) & (df[\"care_home_type\"] != \"U\"),\n",
    "    (df[\"age\"] >= 80) & (df[\"care_home_type\"] == \"U\"),\n",
    "    (df[\"age\"] >= 75) & (df[\"care_home_type\"] == \"U\"),\n",
    "    (df[\"age\"] >= 70) & (df[\"care_home_type\"] == \"U\"),\n",
    "    (df[\"age\"] >= 65) & (df[\"care_home_type\"] == \"U\"),\n",
    "    (df[\"age\"] < 65) & (df[\"risk\"] == \"high\"),\n",
    "    (df[\"age\"] < 65) & (df[\"risk\"] == \"medium\"),\n",
    "    (df[\"age\"] >= 60) & (df[\"risk\"] == \"low\"),\n",
    "    (df[\"age\"] >= 55) & (df[\"risk\"] == \"low\"),\n",
    "    (df[\"age\"] >= 50) & (df[\"risk\"] == \"low\"),\n",
    "    (df[\"age\"] < 50),\n",
    "]\n",
    "priority_values = list(range(1, len(priority_labels) + 1))\n",
    "\n",
    "df[\"priority\"] = np.select(conditionals, priority_values)"
   ]
  },
  {
   "cell_type": "code",
   "execution_count": null,
   "metadata": {},
   "outputs": [],
   "source": [
    "freq = df[\"priority\"].value_counts().sort_index()\n",
    "\n",
    "print(freq)"
   ]
  },
  {
   "cell_type": "markdown",
   "metadata": {},
   "source": [
    "Create workforce calculations for age bands (including risk exclusions)"
   ]
  },
  {
   "cell_type": "code",
   "execution_count": null,
   "metadata": {},
   "outputs": [],
   "source": [
    "# As we need to adapt profiles, we need to first have a factor to use for the dummy data\n",
    "factor = len(df.index) / int(\n",
    "    df_workforce.loc[\n",
    "        (df_workforce[\"workforce\"] == \"England\")\n",
    "        & (df_workforce[\"metric\"] == \"all\")\n",
    "    ].value\n",
    ")\n",
    "\n",
    "# From the calculation above, we also need a factor for the number of higher risk people\n",
    "risk_prop = (freq[6] + freq[7]) / len(df.index)"
   ]
  },
  {
   "cell_type": "code",
   "execution_count": null,
   "metadata": {},
   "outputs": [],
   "source": [
    "# Calculate total for each group\n",
    "df_wf_tot = (\n",
    "    df_workforce.loc[df_workforce[\"metric\"] == \"all\", [\"workforce\", \"value\"]]\n",
    "    .copy(deep=True)\n",
    "    .reset_index(drop=True)\n",
    ")\n",
    "\n",
    "df_wf_tot[\"factor_total\"] = df_wf_tot[\"value\"].astype(int) * factor\n",
    "\n",
    "df_wf_tot = df_wf_tot.set_index(\"workforce\")\n",
    "df_wf_tot = df_wf_tot.drop(\"value\", axis=1)\n",
    "df_wf_tot = df_wf_tot.drop(\"England\", axis=0)\n",
    "\n",
    "wf_tot = df_wf_tot[\"factor_total\"]"
   ]
  },
  {
   "cell_type": "code",
   "execution_count": null,
   "metadata": {},
   "outputs": [],
   "source": [
    "# 5-year age-bands for workforce (assume no workforce above 70)\n",
    "sc_list = [\"SocialCare_Residential\", \"SocialCare_NonResidential\"]\n",
    "\n",
    "lower_ab_sc = 32 / 37\n",
    "lower_ab_not_sc = 32 / 36\n",
    "\n",
    "age_bands = [\"under_55\", \"55_59\", \"60_64\", \"65+\"]\n",
    "\n",
    "df_wf_ab = (\n",
    "    df_workforce.loc[\n",
    "        df_workforce[\"metric\"].isin(age_bands),\n",
    "        [\"workforce\", \"metric\", \"value\"],\n",
    "    ]\n",
    "    .copy(deep=True)\n",
    "    .reset_index(drop=True)\n",
    ")\n",
    "\n",
    "df_wf_ab.loc[df_wf_ab[\"metric\"] == \"65+\", \"metric\"] = \"65_70\"\n",
    "\n",
    "for wfg in df_wf_ab[\"workforce\"].unique():\n",
    "    wfg_lower = df_wf_ab[\n",
    "        (df_wf_ab[\"workforce\"] == wfg) & (df_wf_ab[\"metric\"] == \"under_55\")\n",
    "    ][\"value\"].values[0]\n",
    "\n",
    "    multiplier = lower_ab_sc if wfg in (sc_list) else lower_ab_not_sc\n",
    "\n",
    "    new_ab_series = [\n",
    "        pd.Series(\n",
    "            [wfg, \"18_49\", wfg_lower * multiplier], index=df_wf_ab.columns\n",
    "        ),\n",
    "        pd.Series(\n",
    "            [wfg, \"50_54\", wfg_lower * (1 - multiplier)],\n",
    "            index=df_wf_ab.columns,\n",
    "        ),\n",
    "    ]\n",
    "\n",
    "    df_wf_ab = df_wf_ab.append(new_ab_series, ignore_index=True)\n",
    "\n",
    "age_bands_updated = [\"18_49\", \"50_54\", \"55_59\", \"60_64\", \"65_70\"]\n",
    "\n",
    "df_wf_ab = df_wf_ab[df_wf_ab[\"metric\"] != \"under_55\"]\n",
    "df_wf_ab = df_wf_ab[df_wf_ab[\"workforce\"] != \"England\"]\n",
    "df_wf_ab = df_wf_ab.sort_values([\"workforce\", \"metric\"]).reset_index(drop=True)"
   ]
  },
  {
   "cell_type": "code",
   "execution_count": null,
   "metadata": {},
   "outputs": [],
   "source": [
    "wf_not_65_70 = (\n",
    "    df_wf_ab[~(df_wf_ab[\"metric\"] == \"65_70\")]\n",
    "    .groupby(\"workforce\")\n",
    "    .sum()[\"value\"]\n",
    ")\n",
    "\n",
    "wf_ab = dict()\n",
    "\n",
    "for ab in age_bands_updated:\n",
    "    _wf = df_wf_ab[df_wf_ab[\"metric\"] == ab].set_index(\"workforce\")[\"value\"]\n",
    "\n",
    "    wf_ab.update({ab: _wf})"
   ]
  },
  {
   "cell_type": "markdown",
   "metadata": {},
   "source": [
    "Need to ensure no negatives!"
   ]
  },
  {
   "cell_type": "code",
   "execution_count": null,
   "metadata": {},
   "outputs": [],
   "source": [
    "freq_wf = copy(freq)\n",
    "\n",
    "freq_wf[1] = freq[1] + wf_tot[\"SocialCare_Residential\"]\n",
    "freq_wf[2] = freq[2] + (wf_tot.sum() - wf_tot[\"SocialCare_Residential\"])\n",
    "\n",
    "freq_wf[3] = freq[3]\n",
    "freq_wf[4] = freq[4]\n",
    "\n",
    "freq_wf[5] = freq[5] - wf_ab[\"65_70\"] @ wf_tot\n",
    "\n",
    "freq_wf[6] = freq[6] - (0.5 * risk_prop) * (wf_not_65_70 @ wf_tot)\n",
    "freq_wf[7] = freq[7] - (0.5 * risk_prop) * (wf_not_65_70 @ wf_tot)\n",
    "\n",
    "freq_wf[8] = freq[8] - (1 - risk_prop) * (wf_ab[\"60_64\"] @ wf_tot)\n",
    "freq_wf[9] = freq[9] - (1 - risk_prop) * (wf_ab[\"55_59\"] @ wf_tot)\n",
    "freq_wf[10] = freq[10] - (1 - risk_prop) * (wf_ab[\"50_54\"] @ wf_tot)\n",
    "freq_wf[11] = freq[11] - (1 - risk_prop) * (wf_ab[\"18_49\"] @ wf_tot)"
   ]
  },
  {
   "cell_type": "code",
   "execution_count": null,
   "metadata": {},
   "outputs": [],
   "source": [
    "print(freq)\n",
    "print(sum(freq))\n",
    "print(\"\\n\")\n",
    "print(freq_wf)\n",
    "print(sum(freq_wf))"
   ]
  },
  {
   "cell_type": "markdown",
   "metadata": {},
   "source": [
    "## Waterfall chart"
   ]
  },
  {
   "cell_type": "code",
   "execution_count": null,
   "metadata": {},
   "outputs": [],
   "source": [
    "csum = freq_wf.cumsum().shift(1).fillna(value=0)\n",
    "\n",
    "print(csum)"
   ]
  },
  {
   "cell_type": "code",
   "execution_count": null,
   "metadata": {},
   "outputs": [],
   "source": [
    "wf_plot = freq_wf.plot(\n",
    "    kind=\"bar\",\n",
    "    stacked=True,\n",
    "    bottom=csum,\n",
    "    legend=None,\n",
    "    title=\"Eligibility by Priority Waterfall\",\n",
    "    figsize=(16, 6),\n",
    ")\n",
    "\n",
    "wf_plot.set_xticklabels(priority_labels)\n",
    "wf_plot.grid()"
   ]
  },
  {
   "cell_type": "markdown",
   "metadata": {},
   "source": [
    "# Ethnicity, IMD, Rurality"
   ]
  },
  {
   "cell_type": "code",
   "execution_count": null,
   "metadata": {},
   "outputs": [],
   "source": [
    "sns.displot(df, x=\"priority\", hue=\"ethnicity\", kind=\"kde\", bw_adjust=2)"
   ]
  },
  {
   "cell_type": "code",
   "execution_count": null,
   "metadata": {},
   "outputs": [],
   "source": [
    "sns.displot(df, x=\"priority\", hue=\"imd\", kind=\"kde\", bw_adjust=2)"
   ]
  },
  {
   "cell_type": "code",
   "execution_count": null,
   "metadata": {},
   "outputs": [],
   "source": [
    "sns.displot(df, x=\"priority\", hue=\"rural_urban\", kind=\"kde\", bw_adjust=2)"
   ]
  },
  {
   "cell_type": "markdown",
   "metadata": {},
   "source": [
    "# STP, MSOA"
   ]
  },
  {
   "cell_type": "code",
   "execution_count": null,
   "metadata": {},
   "outputs": [],
   "source": [
    "sns.displot(df, x=\"priority\", hue=\"stp\", kind=\"kde\", bw_adjust=2)"
   ]
  },
  {
   "cell_type": "code",
   "execution_count": null,
   "metadata": {},
   "outputs": [],
   "source": [
    "sns.displot(df, x=\"priority\", hue=\"msoa\", kind=\"kde\", bw_adjust=2)"
   ]
  },
  {
   "cell_type": "markdown",
   "metadata": {},
   "source": [
    "### Map"
   ]
  },
  {
   "cell_type": "code",
   "execution_count": null,
   "metadata": {},
   "outputs": [],
   "source": [
    "dfmap = gpd.read_file(\"./data/STP.geojson\")\n",
    "rand = [randint(0, 9) for p in range(0, len(dfmap.index))]\n",
    "dfmap[\"Value\"] = rand\n",
    "\n",
    "dfmap.head()"
   ]
  },
  {
   "cell_type": "code",
   "execution_count": null,
   "metadata": {},
   "outputs": [],
   "source": [
    "min_lat, max_lat = 48.77, 60\n",
    "min_lon, max_lon = -9.05, 5\n",
    "\n",
    "kanton_map = folium.Map(\n",
    "    location=[54.6, -3.4],\n",
    "    tiles=\"Mapbox Bright\",\n",
    "    zoom_start=7,\n",
    "    min_lat=min_lat,\n",
    "    max_lat=max_lat,\n",
    "    min_lon=min_lon,\n",
    "    max_lon=max_lon,\n",
    "    max_zoom=18,\n",
    "    min_zoom=5,\n",
    ")\n",
    "\n",
    "kanton_map.choropleth(\n",
    "    geo_data=\"./data/STP.geojson\",\n",
    "    data=dfmap,\n",
    "    columns=[\"stp20cd\", \"Value\"],\n",
    "    key_on=\"feature.properties.stp20cd\",\n",
    "    # threshold_scale=[0,1,3,5,9],\n",
    "    fill_color=\"BuPu\",\n",
    ")\n",
    "\n",
    "kanton_map"
   ]
  },
  {
   "cell_type": "code",
   "execution_count": null,
   "metadata": {},
   "outputs": [],
   "source": []
  }
 ],
 "metadata": {
  "kernelspec": {
   "display_name": "Python 3",
   "language": "python",
   "name": "python3"
  },
  "language_info": {
   "codemirror_mode": {
    "name": "ipython",
    "version": 3
   },
   "file_extension": ".py",
   "mimetype": "text/x-python",
   "name": "python",
   "nbconvert_exporter": "python",
   "pygments_lexer": "ipython3",
   "version": "3.8.5"
  }
 },
 "nbformat": 4,
 "nbformat_minor": 2
}
